{
 "cells": [
  {
   "cell_type": "code",
   "execution_count": 2,
   "metadata": {},
   "outputs": [],
   "source": [
    "import math as m\n",
    "\n",
    "def points_to_standard(p1: tuple, p2: tuple):\n",
    "    # a = (y1-y2)\n",
    "    # b = (x2-x1)\n",
    "    # c = (x1*y2-x2*y1)\n",
    "\n",
    "    a = p1[1]-p2[1]\n",
    "    b = p2[0]-p1[0]\n",
    "    c = p1[0]*p2[1]-p2[0]*p1[1]\n",
    "\n",
    "    return (a,b,c)\n",
    "\n",
    "def does_line_intersect(line: tuple, center: tuple,r: int):\n",
    "\n",
    "    #general form of an equation: ax + by + c = 0\n",
    "    a,b,c = line\n",
    "\n",
    "    #formula for distance\n",
    "    distance = abs(a*center[0]+b*center[1]+c)/ m.sqrt(a**2+b**2)\n",
    "\n",
    "    if r == distance:\n",
    "        return 'One intersection'\n",
    "    elif r > distance:\n",
    "        return 'Two Intersection'\n",
    "    else:\n",
    "        return 'No intersection'\n",
    "\n",
    "    "
   ]
  },
  {
   "cell_type": "code",
   "execution_count": 14,
   "metadata": {},
   "outputs": [
    {
     "data": {
      "text/plain": [
       "'One intersection'"
      ]
     },
     "execution_count": 14,
     "metadata": {},
     "output_type": "execute_result"
    }
   ],
   "source": [
    "standard_form = points_to_standard((0,10),(30,10))\n",
    "\n",
    "does_line_intersect(standard_form,(12,0),10)"
   ]
  },
  {
   "cell_type": "code",
   "execution_count": 15,
   "metadata": {},
   "outputs": [
    {
     "data": {
      "text/plain": [
       "'Two Intersection'"
      ]
     },
     "execution_count": 15,
     "metadata": {},
     "output_type": "execute_result"
    }
   ],
   "source": [
    "standard_form = points_to_standard((0,-10),(15,15))\n",
    "\n",
    "does_line_intersect(standard_form,(9,3),5)"
   ]
  },
  {
   "cell_type": "code",
   "execution_count": 3,
   "metadata": {},
   "outputs": [
    {
     "data": {
      "text/plain": [
       "'No intersection'"
      ]
     },
     "execution_count": 3,
     "metadata": {},
     "output_type": "execute_result"
    }
   ],
   "source": [
    "standard_form = points_to_standard((0,-10),(15,15))\n",
    "\n",
    "does_line_intersect(standard_form,(10,-5),4)"
   ]
  }
 ],
 "metadata": {
  "kernelspec": {
   "display_name": "Python 3",
   "language": "python",
   "name": "python3"
  },
  "language_info": {
   "codemirror_mode": {
    "name": "ipython",
    "version": 3
   },
   "file_extension": ".py",
   "mimetype": "text/x-python",
   "name": "python",
   "nbconvert_exporter": "python",
   "pygments_lexer": "ipython3",
   "version": "3.9.13"
  },
  "orig_nbformat": 4
 },
 "nbformat": 4,
 "nbformat_minor": 2
}
